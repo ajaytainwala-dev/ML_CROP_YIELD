{
 "cells": [
  {
   "cell_type": "code",
   "execution_count": 2,
   "id": "0137e76f-086a-4414-b128-a734361f733a",
   "metadata": {},
   "outputs": [],
   "source": [
    "from sklearn.base import BaseEstimator, TransformerMixin\n",
    "import numpy as np\n",
    "\n",
    "class OutlierClipper(BaseEstimator, TransformerMixin):\n",
    "    \"\"\"Clip features by lower/upper quantiles per-column (works on numpy arrays).\"\"\"\n",
    "    def __init__(self, lower_quantile=0.01, upper_quantile=0.99):\n",
    "        self.lower_quantile = lower_quantile\n",
    "        self.upper_quantile = upper_quantile\n",
    "        self.lower_bounds_ = None\n",
    "        self.upper_bounds_ = None\n",
    "    \n",
    "    def fit(self, X, y=None):\n",
    "        X = np.asarray(X, dtype=float)\n",
    "        # compute per-column quantiles\n",
    "        self.lower_bounds_ = np.quantile(X, self.lower_quantile, axis=0)\n",
    "        self.upper_bounds_ = np.quantile(X, self.upper_quantile, axis=0)\n",
    "        return self\n",
    "    \n",
    "    def transform(self, X):\n",
    "        X = np.asarray(X, dtype=float).copy()\n",
    "        X = np.clip(X, self.lower_bounds_, self.upper_bounds_)\n",
    "        return X\n"
   ]
  },
  {
   "cell_type": "code",
   "execution_count": 3,
   "id": "d30b7d3f-f7f1-4605-8c15-cac909a19cab",
   "metadata": {},
   "outputs": [],
   "source": [
    "import joblib\n",
    "import pandas as pd\n",
    "\n",
    "# Load pipeline and label encoder\n",
    "best_model = joblib.load(\"models/best_model_RandomForest.pkl\")  # or XGBoost file\n",
    "le = joblib.load(\"models/label_encoder.pkl\")\n",
    "\n",
    "# Column names (must match training)\n",
    "numeric_features = ['N','P','K','temperature','humidity','ph','rainfall']\n"
   ]
  },
  {
   "cell_type": "code",
   "execution_count": 8,
   "id": "5511284b-9311-468b-9e9d-0933f4e2c435",
   "metadata": {},
   "outputs": [
    {
     "name": "stdout",
     "output_type": "stream",
     "text": [
      "Recommended Crop: kidneybeans\n"
     ]
    }
   ],
   "source": [
    "sample = {'N':90, 'P':42, 'K':43, 'temperature':40, 'humidity':0, 'ph':2.5, 'rainfall':100}\n",
    "row = pd.DataFrame([sample], columns=numeric_features)\n",
    "pred_enc = best_model.predict(row)[0]\n",
    "pred_crop = le.inverse_transform([pred_enc])[0]\n",
    "print(\"Recommended Crop:\", pred_crop)\n"
   ]
  },
  {
   "cell_type": "code",
   "execution_count": 9,
   "id": "f7790f25-f4e7-4b97-bdeb-2aff984bfda7",
   "metadata": {},
   "outputs": [
    {
     "data": {
      "application/vnd.jupyter.widget-view+json": {
       "model_id": "c160c376fd964b4ab99a89c4b31eef77",
       "version_major": 2,
       "version_minor": 0
      },
      "text/plain": [
       "VBox(children=(FloatText(value=50.0, description='N'), FloatText(value=50.0, description='P'), FloatText(value…"
      ]
     },
     "metadata": {},
     "output_type": "display_data"
    }
   ],
   "source": [
    "from ipywidgets import widgets, VBox\n",
    "from IPython.display import display\n",
    "\n",
    "inputs = {feat: widgets.FloatText(value=50, description=feat) for feat in numeric_features}\n",
    "button = widgets.Button(description=\"Predict Crop\")\n",
    "output = widgets.Output()\n",
    "\n",
    "def on_button_click(b):\n",
    "    with output:\n",
    "        output.clear_output()\n",
    "        sample = pd.DataFrame([{k: v.value for k,v in inputs.items()}])\n",
    "        pred_enc = best_model.predict(sample)[0]\n",
    "        pred_crop = le.inverse_transform([pred_enc])[0]\n",
    "        print(\"✅ Recommended Crop:\", pred_crop)\n",
    "\n",
    "        # Top 3 probabilities\n",
    "        if hasattr(best_model.named_steps['model'], \"predict_proba\"):\n",
    "            probs = best_model.predict_proba(sample)[0]\n",
    "            top_idx = probs.argsort()[::-1][:3]\n",
    "            print(\"Top 3 crop predictions:\")\n",
    "            for i in top_idx:\n",
    "                print(f\"{le.inverse_transform([i])[0]} : {probs[i]:.2f}\")\n",
    "\n",
    "button.on_click(on_button_click)\n",
    "display(VBox(list(inputs.values()) + [button, output]))\n"
   ]
  }
 ],
 "metadata": {
  "kernelspec": {
   "display_name": "Python 3 (ipykernel)",
   "language": "python",
   "name": "python3"
  },
  "language_info": {
   "codemirror_mode": {
    "name": "ipython",
    "version": 3
   },
   "file_extension": ".py",
   "mimetype": "text/x-python",
   "name": "python",
   "nbconvert_exporter": "python",
   "pygments_lexer": "ipython3",
   "version": "3.12.7"
  },
  "widgets": {
   "application/vnd.jupyter.widget-state+json": {
    "state": {
     "1f3fdb1fef5945a0b7b7348ff964b437": {
      "model_module": "@jupyter-widgets/controls",
      "model_module_version": "2.0.0",
      "model_name": "DescriptionStyleModel",
      "state": {
       "description_width": ""
      }
     },
     "2100cfc458e34251989d856a018bb93c": {
      "model_module": "@jupyter-widgets/controls",
      "model_module_version": "2.0.0",
      "model_name": "FloatTextModel",
      "state": {
       "description": "humidity",
       "layout": "IPY_MODEL_31db0545269c4c91882e5f90cfa5e13d",
       "step": null,
       "style": "IPY_MODEL_f829cf92564f4ec5a27865db61386edf",
       "value": 23
      }
     },
     "296a25a4c38d4b8094c1187b36d7c3a6": {
      "model_module": "@jupyter-widgets/controls",
      "model_module_version": "2.0.0",
      "model_name": "DescriptionStyleModel",
      "state": {
       "description_width": ""
      }
     },
     "31272a1863b24031af204062845666c6": {
      "model_module": "@jupyter-widgets/controls",
      "model_module_version": "2.0.0",
      "model_name": "DescriptionStyleModel",
      "state": {
       "description_width": ""
      }
     },
     "31db0545269c4c91882e5f90cfa5e13d": {
      "model_module": "@jupyter-widgets/base",
      "model_module_version": "2.0.0",
      "model_name": "LayoutModel",
      "state": {}
     },
     "3356503776e24ae090db09f3711eec3d": {
      "model_module": "@jupyter-widgets/controls",
      "model_module_version": "2.0.0",
      "model_name": "DescriptionStyleModel",
      "state": {
       "description_width": ""
      }
     },
     "3436208a1c424814aac23d9feeaebc79": {
      "model_module": "@jupyter-widgets/base",
      "model_module_version": "2.0.0",
      "model_name": "LayoutModel",
      "state": {}
     },
     "46365ac39a544cf7b8835a5699ddc29c": {
      "model_module": "@jupyter-widgets/output",
      "model_module_version": "1.0.0",
      "model_name": "OutputModel",
      "state": {
       "layout": "IPY_MODEL_ecbe42f52e9b475088d69c60e88e8caa",
       "outputs": [
        {
         "name": "stdout",
         "output_type": "stream",
         "text": "✅ Recommended Crop: chickpea\nTop 3 crop predictions:\nchickpea : 0.29\nkidneybeans : 0.23\npapaya : 0.17\n"
        }
       ]
      }
     },
     "5491e6fd0ba64cafad296c2c1865bbd7": {
      "model_module": "@jupyter-widgets/controls",
      "model_module_version": "2.0.0",
      "model_name": "FloatTextModel",
      "state": {
       "description": "P",
       "layout": "IPY_MODEL_7be7c6cc5f6846cbac0a57bf6d58ee3a",
       "step": null,
       "style": "IPY_MODEL_cf366a7573504d168b17646060f1c168",
       "value": 50
      }
     },
     "7204808a484b476cae1cb9769ecf4af1": {
      "model_module": "@jupyter-widgets/controls",
      "model_module_version": "2.0.0",
      "model_name": "FloatTextModel",
      "state": {
       "description": "temperature",
       "layout": "IPY_MODEL_fb75634088214f01b55e2d18af2e8115",
       "step": null,
       "style": "IPY_MODEL_1f3fdb1fef5945a0b7b7348ff964b437",
       "value": 50
      }
     },
     "75911c51c1424c0e87eaac764a705afd": {
      "model_module": "@jupyter-widgets/controls",
      "model_module_version": "2.0.0",
      "model_name": "ButtonStyleModel",
      "state": {
       "font_family": null,
       "font_size": null,
       "font_style": null,
       "font_variant": null,
       "font_weight": null,
       "text_color": null,
       "text_decoration": null
      }
     },
     "7856681bd47f4ac4b39b486374448f83": {
      "model_module": "@jupyter-widgets/controls",
      "model_module_version": "2.0.0",
      "model_name": "FloatTextModel",
      "state": {
       "description": "ph",
       "layout": "IPY_MODEL_a54a9444633e4a9bb46180dc9ed50807",
       "step": null,
       "style": "IPY_MODEL_3356503776e24ae090db09f3711eec3d",
       "value": 50
      }
     },
     "7be7c6cc5f6846cbac0a57bf6d58ee3a": {
      "model_module": "@jupyter-widgets/base",
      "model_module_version": "2.0.0",
      "model_name": "LayoutModel",
      "state": {}
     },
     "8d4f21cae4c44edaaf6c07bf1354a04e": {
      "model_module": "@jupyter-widgets/controls",
      "model_module_version": "2.0.0",
      "model_name": "DescriptionStyleModel",
      "state": {
       "description_width": ""
      }
     },
     "9c43ceda53ef4258b404682546e0b522": {
      "model_module": "@jupyter-widgets/controls",
      "model_module_version": "2.0.0",
      "model_name": "ButtonModel",
      "state": {
       "description": "Predict Crop",
       "layout": "IPY_MODEL_cb160cdb43fd401b9b5d5a5744d1eeda",
       "style": "IPY_MODEL_75911c51c1424c0e87eaac764a705afd",
       "tooltip": null
      }
     },
     "a54a9444633e4a9bb46180dc9ed50807": {
      "model_module": "@jupyter-widgets/base",
      "model_module_version": "2.0.0",
      "model_name": "LayoutModel",
      "state": {}
     },
     "b3e0cd4f84e6497abe840d607499f14c": {
      "model_module": "@jupyter-widgets/base",
      "model_module_version": "2.0.0",
      "model_name": "LayoutModel",
      "state": {}
     },
     "bff4737183b848a79c28cc39728766c5": {
      "model_module": "@jupyter-widgets/base",
      "model_module_version": "2.0.0",
      "model_name": "LayoutModel",
      "state": {}
     },
     "c160c376fd964b4ab99a89c4b31eef77": {
      "model_module": "@jupyter-widgets/controls",
      "model_module_version": "2.0.0",
      "model_name": "VBoxModel",
      "state": {
       "children": [
        "IPY_MODEL_cb11a2c3241842658b551f407cb7fa54",
        "IPY_MODEL_5491e6fd0ba64cafad296c2c1865bbd7",
        "IPY_MODEL_eb871edee9934804b86da041109d5554",
        "IPY_MODEL_7204808a484b476cae1cb9769ecf4af1",
        "IPY_MODEL_2100cfc458e34251989d856a018bb93c",
        "IPY_MODEL_7856681bd47f4ac4b39b486374448f83",
        "IPY_MODEL_c9deef91e63d4e178ec88a03c0789bf9",
        "IPY_MODEL_9c43ceda53ef4258b404682546e0b522",
        "IPY_MODEL_46365ac39a544cf7b8835a5699ddc29c"
       ],
       "layout": "IPY_MODEL_c3abd6284deb4a0aa7f0c8bbd280110f"
      }
     },
     "c3abd6284deb4a0aa7f0c8bbd280110f": {
      "model_module": "@jupyter-widgets/base",
      "model_module_version": "2.0.0",
      "model_name": "LayoutModel",
      "state": {}
     },
     "c9deef91e63d4e178ec88a03c0789bf9": {
      "model_module": "@jupyter-widgets/controls",
      "model_module_version": "2.0.0",
      "model_name": "FloatTextModel",
      "state": {
       "description": "rainfall",
       "layout": "IPY_MODEL_b3e0cd4f84e6497abe840d607499f14c",
       "step": null,
       "style": "IPY_MODEL_31272a1863b24031af204062845666c6",
       "value": 150
      }
     },
     "cb11a2c3241842658b551f407cb7fa54": {
      "model_module": "@jupyter-widgets/controls",
      "model_module_version": "2.0.0",
      "model_name": "FloatTextModel",
      "state": {
       "description": "N",
       "layout": "IPY_MODEL_bff4737183b848a79c28cc39728766c5",
       "step": null,
       "style": "IPY_MODEL_296a25a4c38d4b8094c1187b36d7c3a6",
       "value": 23
      }
     },
     "cb160cdb43fd401b9b5d5a5744d1eeda": {
      "model_module": "@jupyter-widgets/base",
      "model_module_version": "2.0.0",
      "model_name": "LayoutModel",
      "state": {}
     },
     "cf366a7573504d168b17646060f1c168": {
      "model_module": "@jupyter-widgets/controls",
      "model_module_version": "2.0.0",
      "model_name": "DescriptionStyleModel",
      "state": {
       "description_width": ""
      }
     },
     "eb871edee9934804b86da041109d5554": {
      "model_module": "@jupyter-widgets/controls",
      "model_module_version": "2.0.0",
      "model_name": "FloatTextModel",
      "state": {
       "description": "K",
       "layout": "IPY_MODEL_3436208a1c424814aac23d9feeaebc79",
       "step": null,
       "style": "IPY_MODEL_8d4f21cae4c44edaaf6c07bf1354a04e",
       "value": 50
      }
     },
     "ecbe42f52e9b475088d69c60e88e8caa": {
      "model_module": "@jupyter-widgets/base",
      "model_module_version": "2.0.0",
      "model_name": "LayoutModel",
      "state": {}
     },
     "f829cf92564f4ec5a27865db61386edf": {
      "model_module": "@jupyter-widgets/controls",
      "model_module_version": "2.0.0",
      "model_name": "DescriptionStyleModel",
      "state": {
       "description_width": ""
      }
     },
     "fb75634088214f01b55e2d18af2e8115": {
      "model_module": "@jupyter-widgets/base",
      "model_module_version": "2.0.0",
      "model_name": "LayoutModel",
      "state": {}
     }
    },
    "version_major": 2,
    "version_minor": 0
   }
  }
 },
 "nbformat": 4,
 "nbformat_minor": 5
}
